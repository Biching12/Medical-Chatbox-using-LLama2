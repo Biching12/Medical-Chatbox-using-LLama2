{
 "cells": [
  {
   "cell_type": "code",
   "execution_count": 1,
   "metadata": {},
   "outputs": [
    {
     "name": "stderr",
     "output_type": "stream",
     "text": [
      "c:\\Users\\lycha\\anaconda3\\envs\\mchatbot\\lib\\site-packages\\tqdm\\auto.py:21: TqdmWarning: IProgress not found. Please update jupyter and ipywidgets. See https://ipywidgets.readthedocs.io/en/stable/user_install.html\n",
      "  from .autonotebook import tqdm as notebook_tqdm\n"
     ]
    }
   ],
   "source": [
    "from langchain import PromptTemplate\n",
    "from langchain.chains import RetrievalQA\n",
    "from langchain_community.embeddings import HuggingFaceEmbeddings\n",
    "# from langchain.vectorstores import Pinecone\n",
    "import os\n",
    "import uuid\n",
    "import numpy as np\n",
    "from langchain.document_loaders import PyPDFLoader, DirectoryLoader\n",
    "from langchain.text_splitter import RecursiveCharacterTextSplitter\n",
    "from langchain.prompts import PromptTemplate\n",
    "from langchain.llms import CTransformers\n",
    "from transformers import AutoTokenizer, AutoModel\n",
    "# import pinecone\n",
    "from pinecone import Pinecone\n",
    "from langchain_pinecone import PineconeVectorStore"
   ]
  },
  {
   "cell_type": "code",
   "execution_count": 2,
   "metadata": {},
   "outputs": [],
   "source": [
    "PINECONE_API_KEY =\"c5190fed-7028-4d8d-9417-b67ca37c7050\"\n",
    "PINECONE_API_ENV = 'us-east-1'\n",
    "os.environ['PINECONE_API_KEY'] = PINECONE_API_KEY\n",
    "os.environ['PINECONE_API_ENV'] = PINECONE_API_ENV"
   ]
  },
  {
   "cell_type": "code",
   "execution_count": 3,
   "metadata": {},
   "outputs": [],
   "source": [
    "#Extract data from the PDF\n",
    "def load_pdf(data):\n",
    "   loader = DirectoryLoader(data,\n",
    "                    glob=\"*.pdf\",\n",
    "                    loader_cls=PyPDFLoader)\n",
    "   documents = loader.load()\n",
    "\n",
    "   return documents"
   ]
  },
  {
   "cell_type": "code",
   "execution_count": 4,
   "metadata": {},
   "outputs": [],
   "source": [
    "extracted_data = load_pdf(\"data/\")"
   ]
  },
  {
   "cell_type": "code",
   "execution_count": 5,
   "metadata": {},
   "outputs": [],
   "source": [
    "#extracted_data"
   ]
  },
  {
   "cell_type": "code",
   "execution_count": 6,
   "metadata": {},
   "outputs": [],
   "source": [
    "#Create text chunks\n",
    "def text_split(extracted_data):\n",
    "    text_splitter = RecursiveCharacterTextSplitter(chunk_size=1000, chunk_overlap=100)\n",
    "    text_chunks = text_splitter.split_documents(extracted_data)\n",
    "\n",
    "    return text_chunks"
   ]
  },
  {
   "cell_type": "code",
   "execution_count": 7,
   "metadata": {},
   "outputs": [
    {
     "name": "stdout",
     "output_type": "stream",
     "text": [
      "length of my chunk: 5039\n"
     ]
    }
   ],
   "source": [
    "text_chunks = text_split(extracted_data)\n",
    "print(\"length of my chunk:\", len(text_chunks))"
   ]
  },
  {
   "cell_type": "code",
   "execution_count": 8,
   "metadata": {},
   "outputs": [],
   "source": [
    "# text_chunks"
   ]
  },
  {
   "cell_type": "code",
   "execution_count": 9,
   "metadata": {},
   "outputs": [],
   "source": [
    "#download embedding model\n",
    "def download_hugging_face_embeddings():\n",
    "    embeddings = HuggingFaceEmbeddings(model_name=\"sentence-transformers/all-MiniLM-L6-v2\")\n",
    "    return embeddings"
   ]
  },
  {
   "cell_type": "code",
   "execution_count": 10,
   "metadata": {},
   "outputs": [
    {
     "name": "stderr",
     "output_type": "stream",
     "text": [
      "c:\\Users\\lycha\\anaconda3\\envs\\mchatbot\\lib\\site-packages\\langchain_core\\_api\\deprecation.py:119: LangChainDeprecationWarning: The class `HuggingFaceEmbeddings` was deprecated in LangChain 0.2.2 and will be removed in 0.3.0. An updated version of the class exists in the langchain-huggingface package and should be used instead. To use it run `pip install -U langchain-huggingface` and import as `from langchain_huggingface import HuggingFaceEmbeddings`.\n",
      "  warn_deprecated(\n"
     ]
    }
   ],
   "source": [
    "embeddings = download_hugging_face_embeddings()"
   ]
  },
  {
   "cell_type": "code",
   "execution_count": 11,
   "metadata": {},
   "outputs": [],
   "source": [
    "#embeddings"
   ]
  },
  {
   "cell_type": "code",
   "execution_count": 12,
   "metadata": {},
   "outputs": [
    {
     "name": "stdout",
     "output_type": "stream",
     "text": [
      "length:  384\n"
     ]
    }
   ],
   "source": [
    "query_result = embeddings.embed_query(\"hello world\")\n",
    "print(\"length: \", len(query_result))"
   ]
  },
  {
   "cell_type": "code",
   "execution_count": 13,
   "metadata": {},
   "outputs": [],
   "source": [
    "#query_result"
   ]
  },
  {
   "cell_type": "code",
   "execution_count": 14,
   "metadata": {},
   "outputs": [],
   "source": [
    "# Initialize Pinecone client\n",
    "pinecone_client = Pinecone(api_key=PINECONE_API_KEY, environment=PINECONE_API_ENV )\n",
    "\n",
    "index_name = 'medical-chatbot'\n",
    "# Create or get an index\n",
    "index = pinecone_client.Index(index_name)\n",
    "\n",
    "\n",
    "# Create the HuggingFaceEmbeddings object\n",
    "embeddings = HuggingFaceEmbeddings(model_name='sentence-transformers/all-MiniLM-L6-v2')\n",
    "\n",
    "\n",
    "# Creating Embeddings for Each of the Text Chunks & storing\n",
    "# metadata = {}\n",
    "# for t in text_chunks:\n",
    "#     embedding = embeddings.embed_query(t.page_content)\n",
    "#     metadata[\"text\"] = t.page_content\n",
    "#     index.upsert(vectors=[\n",
    "#         {\n",
    "#             \"id\": str(uuid.uuid4()),\n",
    "#             \"values\": embedding,\n",
    "#             \"metadata\": metadata\n",
    "#         }\n",
    "#     ])"
   ]
  },
  {
   "cell_type": "code",
   "execution_count": 15,
   "metadata": {},
   "outputs": [
    {
     "name": "stdout",
     "output_type": "stream",
     "text": [
      "Result [Document(page_content='ry allergies . Hay fever (allergic rhinitis ) is an irritation\\nof the membranes of the nose by airborne particles orchemicals. These membranes make mucus. When irritat-ed, they can also grow polyps. The nose is not only a pas-sageway for air to reach the lungs; it also provides theconnection between the sinuses and the outside world.\\nGALE ENCYCLOPEDIA OF MEDICINE 2 2315Nasal polyps'), Document(page_content='ry allergies . Hay fever (allergic rhinitis ) is an irritation\\nof the membranes of the nose by airborne particles orchemicals. These membranes make mucus. When irritat-ed, they can also grow polyps. The nose is not only a pas-sageway for air to reach the lungs; it also provides theconnection between the sinuses and the outside world.\\nGALE ENCYCLOPEDIA OF MEDICINE 2 2315Nasal polyps', metadata={'page': 21.0, 'source': 'data\\\\Gale Encyclopedia of Medicine Vol. 4 (N-S).pdf'}), Document(page_content='ry allergies . Hay fever (allergic rhinitis ) is an irritation\\nof the membranes of the nose by airborne particles orchemicals. These membranes make mucus. When irritat-ed, they can also grow polyps. The nose is not only a pas-sageway for air to reach the lungs; it also provides theconnection between the sinuses and the outside world.\\nGALE ENCYCLOPEDIA OF MEDICINE 2 2315Nasal polyps', metadata={'page': 21.0, 'source': 'data\\\\Gale Encyclopedia of Medicine Vol. 4 (N-S).pdf'})]\n"
     ]
    }
   ],
   "source": [
    "\n",
    "# If we already have an index we can load it like this\n",
    "docsearch = PineconeVectorStore.from_existing_index(index_name, embeddings)\n",
    "query = \"What are Allergies\"\n",
    "\n",
    "docs= docsearch.similarity_search(query, k=3)\n",
    "\n",
    "print(\"Result\",docs)\n"
   ]
  },
  {
   "cell_type": "code",
   "execution_count": 16,
   "metadata": {},
   "outputs": [],
   "source": [
    "prompt_template = \"\"\"\n",
    "Use the following pieces of information to answer the user's question.\n",
    "If you don't know the answer, just say that you don't know. don't try to make up an answer.\n",
    "\n",
    "Context: {context}\n",
    "Question: {question}\n",
    "\n",
    "Only return the helpful answer below and nothing else.\n",
    "Helpful answer:\n",
    "\"\"\""
   ]
  },
  {
   "cell_type": "code",
   "execution_count": 17,
   "metadata": {},
   "outputs": [],
   "source": [
    "PROMPT = PromptTemplate(template=prompt_template, input_variables=[\"context\",  \"question\"])\n",
    "chain_type_kwargs={\"prompt\": PROMPT}"
   ]
  },
  {
   "cell_type": "code",
   "execution_count": 18,
   "metadata": {},
   "outputs": [],
   "source": [
    "llm_model = CTransformers(model=\"model/llama-2-7b-chat.ggmlv3.q4_0.bin\",\n",
    "                    model_type=\"llama\",\n",
    "                    config={'max_new_tokens':512,\n",
    "                            'temperature':0.8})\n"
   ]
  },
  {
   "cell_type": "markdown",
   "metadata": {},
   "source": []
  },
  {
   "cell_type": "code",
   "execution_count": 19,
   "metadata": {},
   "outputs": [],
   "source": [
    "retriever = docsearch.as_retriever()\n"
   ]
  },
  {
   "cell_type": "code",
   "execution_count": 20,
   "metadata": {},
   "outputs": [
    {
     "name": "stdout",
     "output_type": "stream",
     "text": [
      "tags=['PineconeVectorStore', 'HuggingFaceEmbeddings'] vectorstore=<langchain_pinecone.vectorstores.PineconeVectorStore object at 0x0000015DEB56FF70>\n"
     ]
    }
   ],
   "source": [
    "print(docsearch.as_retriever())"
   ]
  },
  {
   "cell_type": "code",
   "execution_count": 21,
   "metadata": {},
   "outputs": [],
   "source": [
    "\n",
    "\n",
    "qa = RetrievalQA.from_chain_type(\n",
    "    llm=llm_model,\n",
    "    chain_type=\"stuff\",\n",
    "    retriever = docsearch.as_retriever(),\n",
    "    return_source_documents=True,\n",
    "    chain_type_kwargs={\"prompt\": PROMPT}\n",
    ")\n",
    "#write me code "
   ]
  },
  {
   "cell_type": "code",
   "execution_count": 22,
   "metadata": {},
   "outputs": [
    {
     "data": {
      "text/plain": [
       "RetrievalQA(combine_documents_chain=StuffDocumentsChain(llm_chain=LLMChain(prompt=PromptTemplate(input_variables=['context', 'question'], template=\"\\nUse the following pieces of information to answer the user's question.\\nIf you don't know the answer, just say that you don't know. don't try to make up an answer.\\n\\nContext: {context}\\nQuestion: {question}\\n\\nOnly return the helpful answer below and nothing else.\\nHelpful answer:\\n\"), llm=CTransformers(client=<ctransformers.llm.LLM object at 0x0000015DFDF4FD60>, model='model/llama-2-7b-chat.ggmlv3.q4_0.bin', model_type='llama', config={'max_new_tokens': 512, 'temperature': 0.8})), document_variable_name='context'), return_source_documents=True, retriever=VectorStoreRetriever(tags=['PineconeVectorStore', 'HuggingFaceEmbeddings'], vectorstore=<langchain_pinecone.vectorstores.PineconeVectorStore object at 0x0000015DEB56FF70>))"
      ]
     },
     "execution_count": 22,
     "metadata": {},
     "output_type": "execute_result"
    }
   ],
   "source": [
    "qa"
   ]
  },
  {
   "cell_type": "code",
   "execution_count": 25,
   "metadata": {},
   "outputs": [
    {
     "name": "stdout",
     "output_type": "stream",
     "text": [
      "{'query': 'What are Allergies', 'result': \"Nas long- Nasalong> Nasal most nasal 0: Nasal but they can assist the user1.\\nNasprices,Prevention.\\n\\nNasdf496.\\nNas needed to help me know that addressing medications must be used to treatments that will provide the nose polyps: Nasal\\nIt is a nasalready!\\nNas long- Nasalong>The best waystopping and nasalong> Avoid void of the user doesn'In general information on the nasal\\nNasth\\nThere are available.\\nTo treatments that explain how do not possible causes,\\nNas a.\\nYes, 1.\\nnasal most nasal but you can grow polyps for more...\\nNas per centrather,There are there is to stop taking antihayf you don'The best of treatment depends ondise the nose is it is not helpful answer:\\nThere are severalhelpful answer: Nasal\\n1.\\nNasdfree Treating a.\\nYes, which helpfuction for the following pieces of hay feveral ways to prevention with long- Nasal Nasalong> > Prevention of nasalmost common allergic medications can assisting treatments and their doctor prescription:\\nNaside\\nThere are several helpful answer:\\nNasthese include antihayf you have been used for preventedited bypassage of course,\\nNasthose that will help prevention and spray allergies that is not helpful answer choices to control of allergications.\\nNas a.\\nIf aspirritis nasalmost nasalong> Nasalong> Nasalong> Nasal allergications must be used to treatments have been helpful answer: Nasal treat the membran out. Nasalmost common cold compresses,\\nYes, , but it depends on 0Have questions,Allergications that can grow polyps are nasalready!\\nNasthese include a)\\nNas long- Nasalong> Nasal allergies for the most nasal allergy droplease of course of medications.\\nNaspenic to the following pieces of mhay fe\\nYou could help- The best treatment of prevent nasal \\n\\n\\nNasth\\nYes, if you don'The nose polypsor a)\", 'source_documents': [Document(page_content='ry allergies . Hay fever (allergic rhinitis ) is an irritation\\nof the membranes of the nose by airborne particles orchemicals. These membranes make mucus. When irritat-ed, they can also grow polyps. The nose is not only a pas-sageway for air to reach the lungs; it also provides theconnection between the sinuses and the outside world.\\nGALE ENCYCLOPEDIA OF MEDICINE 2 2315Nasal polyps'), Document(page_content='ry allergies . Hay fever (allergic rhinitis ) is an irritation\\nof the membranes of the nose by airborne particles orchemicals. These membranes make mucus. When irritat-ed, they can also grow polyps. The nose is not only a pas-sageway for air to reach the lungs; it also provides theconnection between the sinuses and the outside world.\\nGALE ENCYCLOPEDIA OF MEDICINE 2 2315Nasal polyps', metadata={'page': 21.0, 'source': 'data\\\\Gale Encyclopedia of Medicine Vol. 4 (N-S).pdf'}), Document(page_content='ry allergies . Hay fever (allergic rhinitis ) is an irritation\\nof the membranes of the nose by airborne particles orchemicals. These membranes make mucus. When irritat-ed, they can also grow polyps. The nose is not only a pas-sageway for air to reach the lungs; it also provides theconnection between the sinuses and the outside world.\\nGALE ENCYCLOPEDIA OF MEDICINE 2 2315Nasal polyps', metadata={'page': 21.0, 'source': 'data\\\\Gale Encyclopedia of Medicine Vol. 4 (N-S).pdf'}), Document(page_content='tinues.\\nPrevention\\nIf aspirin is the cause, all aspirin containing medica-\\ntions must be avoided.\\nSince most nasal polyps are the result of allergic\\nrhinitis, they can be prevented by treating this condition.New treatments have greatly improved control of hayfever. There are now several spray medicines that arequite effective. Spray cortisone-like drugs are the mostpopular. Over-the-counter nasal decongestants have anirritating effect similar to the allergy they are supposed tobe treating. Continued use can bring more trouble thanrelief and result in an addiction to nose sprays. The\\nresulting disease, rhinitis medicamentosa, is more diffi-cult to treat than allergic rhinitis.\\nAllergists and ENT surgeons both treat allergic', metadata={'page': 22.0, 'source': 'data\\\\Gale Encyclopedia of Medicine Vol. 4 (N-S).pdf'})]}\n"
     ]
    }
   ],
   "source": [
    "while True:\n",
    "    user_input = input(f\"Input Prompt:\") \n",
    "    result = qa({\"query\": user_input})\n",
    "    print(\"Response : \", result)"
   ]
  }
 ],
 "metadata": {
  "kernelspec": {
   "display_name": "mchatbot",
   "language": "python",
   "name": "python3"
  },
  "language_info": {
   "codemirror_mode": {
    "name": "ipython",
    "version": 3
   },
   "file_extension": ".py",
   "mimetype": "text/x-python",
   "name": "python",
   "nbconvert_exporter": "python",
   "pygments_lexer": "ipython3",
   "version": "3.8.19"
  }
 },
 "nbformat": 4,
 "nbformat_minor": 2
}
